{
 "cells": [
  {
   "cell_type": "markdown",
   "metadata": {},
   "source": [
    "## Install Azure CLI\n",
    "Follow the instructions for installing the Azure CLI according to your system configuration.  \n",
    "Details for installation can be found at [https://learn.microsoft.com/en-us/cli/azure/install-azure-cli](https://learn.microsoft.com/en-us/cli/azure/install-azure-cli)."
   ]
  },
  {
   "cell_type": "markdown",
   "metadata": {},
   "source": []
  },
  {
   "cell_type": "code",
   "execution_count": 2,
   "metadata": {},
   "outputs": [
    {
     "name": "stdout",
     "output_type": "stream",
     "text": [
      "{\n",
      "  \"azure-cli\": \"2.56.0\",\n",
      "  \"azure-cli-core\": \"2.56.0\",\n",
      "  \"azure-cli-telemetry\": \"1.1.0\",\n",
      "  \"extensions\": {\n",
      "    \"account\": \"0.2.5\",\n",
      "    \"aks-preview\": \"0.5.131\",\n",
      "    \"authV2\": \"0.1.2\",\n",
      "    \"azure-iot\": \"0.21.0\",\n",
      "    \"partnercenter\": \"0.2.5\",\n",
      "    \"spring-cloud\": \"3.1.7\",\n",
      "    \"ssh\": \"2.0.1\"\n",
      "  }\n",
      "}\n"
     ]
    }
   ],
   "source": [
    "# Check the version of the az cli\n",
    "!az version"
   ]
  },
  {
   "cell_type": "markdown",
   "metadata": {},
   "source": [
    "## Login to the Az Cli\n",
    "After installing the Azure cli, ensure that you are logged into the Azure subscription that is associated with the Partnercenter account that you wish to publish an offer to.  \n",
    "\n",
    "Log in by executing the ``` az login ``` command.\n",
    "\n",
    "\n",
    "You can find more information about publishing Azure Managed Applications at [https://learn.microsoft.com/en-us/partner-center/marketplace/plan-azure-application-offer](https://learn.microsoft.com/en-us/partner-center/marketplace/plan-azure-application-offer)."
   ]
  },
  {
   "cell_type": "markdown",
   "metadata": {},
   "source": [
    "### Confirm Login Success\n",
    "You can confirm that you have successfully logged in Azure and have the proper subscription set by querying the current list of resources groups."
   ]
  },
  {
   "cell_type": "code",
   "execution_count": 3,
   "metadata": {},
   "outputs": [
    {
     "name": "stdout",
     "output_type": "stream",
     "text": [
      "Name                             Location    Status\n",
      "-------------------------------  ----------  ---------\n",
      "cloud-shell-storage-eastus       eastus      Succeeded\n",
      "Default-ActivityLogAlerts        eastus      Succeeded\n",
      "partnercenter-cli-extension-dev  eastus      Succeeded\n",
      "modm-dev                         eastus      Succeeded\n",
      "DefaultResourceGroup-EUS         eastus      Succeeded\n",
      "modm-dev-vmi                     eastus      Succeeded\n",
      "modm-dev-packer                  eastus      Succeeded\n",
      "NetworkWatcherRG                 eastus      Succeeded\n",
      "modm-image-export                eastus      Succeeded\n",
      "bobjacsimple2208                 eastus      Succeeded\n",
      "bobjacdemo                       eastus      Succeeded\n"
     ]
    }
   ],
   "source": [
    "!az group list --output table"
   ]
  },
  {
   "cell_type": "markdown",
   "metadata": {},
   "source": [
    "## Set up Partnercenter Extension"
   ]
  },
  {
   "cell_type": "markdown",
   "metadata": {},
   "source": [
    "### Check To See if Partnercenter Extension is Installed"
   ]
  },
  {
   "cell_type": "code",
   "execution_count": 4,
   "metadata": {},
   "outputs": [
    {
     "name": "stdout",
     "output_type": "stream",
     "text": [
      "Experimental    ExtensionType    Name           Path                                                 Preview    Version\n",
      "--------------  ---------------  -------------  ---------------------------------------------------  ---------  ---------\n",
      "False           whl              account        /Users/bobjacobs/.azure/cliextensions/account        False      0.2.5\n",
      "False           whl              aks-preview    /Users/bobjacobs/.azure/cliextensions/aks-preview    True       0.5.131\n",
      "False           whl              authV2         /Users/bobjacobs/.azure/cliextensions/authV2         False      0.1.2\n",
      "False           whl              azure-iot      /Users/bobjacobs/.azure/cliextensions/azure-iot      False      0.21.0\n",
      "False           whl              partnercenter  /Users/bobjacobs/.azure/cliextensions/partnercenter  True       0.2.5\n",
      "False           whl              spring-cloud   /Users/bobjacobs/.azure/cliextensions/spring-cloud   False      3.1.7\n",
      "False           whl              ssh            /Users/bobjacobs/.azure/cliextensions/ssh            False      2.0.1\n"
     ]
    }
   ],
   "source": [
    "!az extension list --output table"
   ]
  },
  {
   "cell_type": "markdown",
   "metadata": {},
   "source": [
    "### Add the Partner Center CLI Extension\n",
    "If you see an extension named \"partnercenter\" in the table above, remove it with the following command: \n",
    "```\n",
    "az extension remove --name partnercenter\n",
    "```\n",
    "\n",
    "\n",
    "Add the \"partnercenter\" extension with the command:\n",
    "\n",
    "```  \n",
    "az extension add --source \"https://github.com/Azure/partnercenter-cli-extension/releases/download/v0.2.5-alpha/partnercenter-0.2.5-py3-none-any.whl\"\n",
    "```"
   ]
  },
  {
   "cell_type": "markdown",
   "metadata": {},
   "source": [
    "### Create Application Offer\n",
    "Once you are sure that the extension has been added, you can look to build a terraform package.  In order to do thism you will need an offer that you want to target.  You can do this by logging into the Partnercetner portal and createing an offer.  More information on this can be found at [Create ab Azyre application offer](https://learn.microsoft.com/en-us/partner-center/marketplace/azure-app-offer-setup.)"
   ]
  },
  {
   "cell_type": "markdown",
   "metadata": {},
   "source": [
    "### Verify Offer is Available\n",
    "You should now list all your available offers using Az Cli Partercenter Extension.  Execute the following command and sure your offer is available:"
   ]
  },
  {
   "cell_type": "code",
   "execution_count": 5,
   "metadata": {},
   "outputs": [
    {
     "name": "stdout",
     "output_type": "stream",
     "text": [
      "\u001b[36mCommand group 'partnercenter marketplace offer' is in preview and under development. Reference and support levels: https://aka.ms/CLI_refstatus\u001b[0m\n",
      "ID                        NAME    TYPE\n",
      "------------------------  ------  ---------------------------------\n",
      "modm                              Azure Third Party Virtual Machine\n",
      "bobjacoffer                       Azure Application\n",
      "modm-96                           Azure Third Party Virtual Machine\n",
      "clitest2x2ucxm3gi4mccu2t          Azure Container\n",
      "simpleterraform                   Azure Application\n",
      "complexterraform                  Azure Application\n"
     ]
    }
   ],
   "source": [
    "!az partnercenter marketplace offer list --output table"
   ]
  },
  {
   "cell_type": "code",
   "execution_count": 3,
   "metadata": {},
   "outputs": [
    {
     "name": "stdout",
     "output_type": "stream",
     "text": [
      "['main.tf', 'createUiDefinition.json', 'modules']\n"
     ]
    }
   ],
   "source": [
    "\n",
    "import os\n",
    "\n",
    "src_dir = \"complexterraform/\"\n",
    "contents = os.listdir(src_dir)\n",
    "print(contents)"
   ]
  },
  {
   "cell_type": "markdown",
   "metadata": {},
   "source": [
    "### Build a Terraform Package\n",
    "To build a terraform package, you need to execute the following command:\n",
    "```\n",
    "az partnercenter marketplace offer package build --id simpleterraform --src $src_dir --package-type AppInstaller\n",
    "```\n",
    "\n"
   ]
  },
  {
   "cell_type": "code",
   "execution_count": 4,
   "metadata": {},
   "outputs": [
    {
     "name": "stdout",
     "output_type": "stream",
     "text": [
      "\u001b[36mCommand group 'partnercenter marketplace offer package' is in preview and under development. Reference and support levels: https://aka.ms/CLI_refstatus\u001b[0m\n",
      "{\n",
      "  \"file\": \"/Users/bobjacobs/work/src/github.com/gpsuscodewith/modm-walkthrough/notebooks/app.zip\",\n",
      "  \"validationResults\": []\n",
      "}\n"
     ]
    }
   ],
   "source": [
    "import os\n",
    "\n",
    "# Set the source directory\n",
    "src_dir = \"complexterraform/\"\n",
    "\n",
    "# Exexute the command\n",
    "!az partnercenter marketplace offer package build --id complexterraform --src $src_dir --package-type AppInstaller\n"
   ]
  },
  {
   "cell_type": "markdown",
   "metadata": {},
   "source": [
    "You should now see an app.zip file located in your current directory.  We are going to verify this."
   ]
  },
  {
   "cell_type": "code",
   "execution_count": null,
   "metadata": {},
   "outputs": [
    {
     "name": "stdout",
     "output_type": "stream",
     "text": [
      "['main.tf', 'createUiDefinition.json', 'modules']\n"
     ]
    }
   ],
   "source": [
    "import os\n",
    "\n",
    "# Specify the directory you want to list\n",
    "src_dir = \"./\"\n",
    "\n",
    "# List the contents of the directory\n",
    "contents = os.listdir(src_dir)\n",
    "print(contents)\n"
   ]
  },
  {
   "cell_type": "markdown",
   "metadata": {},
   "source": [
    "This app.zip file is what we are going to upload to partnercenter.  This is our technical configuration that we are going to publish."
   ]
  },
  {
   "cell_type": "markdown",
   "metadata": {},
   "source": [
    "So that we are clear on what is produced by the ```az partnercenter marketplace offer package build --id complexterraform --src $src_dir --package-type AppInstaller``` command, let's unzip the contents and explore."
   ]
  },
  {
   "cell_type": "code",
   "execution_count": 6,
   "metadata": {},
   "outputs": [
    {
     "name": "stdout",
     "output_type": "stream",
     "text": [
      "Archive:  ./app.zip\n",
      " extracting: ./clientapp.zip         \n",
      " extracting: ./installer.zip         \n",
      " extracting: ./mainTemplate.json     \n",
      " extracting: ./viewDefinition.json   \n",
      " extracting: ./createUiDefinition.json  \n"
     ]
    }
   ],
   "source": [
    "import os\n",
    "\n",
    "# Set the current directory\n",
    "current_directory = \"./\"\n",
    "\n",
    "# Get the path to the produced app.zip file\n",
    "app_zip_path = os.path.join(current_directory, \"app.zip\")\n",
    "\n",
    "!unzip -o $app_zip_path -d $current_directory\n",
    "\n",
    "src_dir = \"./\"\n",
    "\n",
    "# List the contents of the directory\n",
    "contents = os.listdir(src_dir)\n",
    "print(contents)"
   ]
  }
 ],
 "metadata": {
  "kernelspec": {
   "display_name": "Python 3",
   "language": "python",
   "name": "python3"
  },
  "language_info": {
   "codemirror_mode": {
    "name": "ipython",
    "version": 3
   },
   "file_extension": ".py",
   "mimetype": "text/x-python",
   "name": "python",
   "nbconvert_exporter": "python",
   "pygments_lexer": "ipython3",
   "version": "3.1.0"
  }
 },
 "nbformat": 4,
 "nbformat_minor": 2
}
